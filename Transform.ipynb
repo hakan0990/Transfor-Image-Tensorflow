{
 "cells": [
  {
   "cell_type": "code",
   "execution_count": 1,
   "id": "ab8c70fe-aace-452b-853c-c8aa50df7385",
   "metadata": {},
   "outputs": [],
   "source": [
    "import tensorflow as tf\n",
    "import tensorflow_hub as hub\n",
    "import numpy as np \n",
    "from PIL import Image"
   ]
  },
  {
   "cell_type": "code",
   "execution_count": 17,
   "id": "3a9080ca-38a9-44eb-a096-16d2e503c1d9",
   "metadata": {},
   "outputs": [
    {
     "name": "stdout",
     "output_type": "stream",
     "text": [
      "Stil Aktarma İşlemi başlıyor\n",
      "Stil Aktarma İşlemi bitti\n"
     ]
    }
   ],
   "source": [
    "def load_image(image_path):\n",
    "    img=tf.io.read_file(image_path)\n",
    "    img=tf.image.decode_image(img,channels=3)\n",
    "    img=tf.image.convert_image_dtype(img,tf.float32)\n",
    "    img=img[tf.newaxis,:]\n",
    "    return img \n",
    "\n",
    "model=hub.load(\"https://tfhub.dev/google/magenta/arbitrary-image-stylization-v1-256/2\")\n",
    "img_input=load_image(\"./images (2).jpg\")\n",
    "img_style=load_image(\"./my_transoformed_img_1.png\")\n",
    "print(\"Stil Aktarma İşlemi başlıyor\")\n",
    "my_output_img=model(img_input,img_style)[0]\n",
    "my_output_img=tf.keras.preprocessing.image.array_to_img(my_output_img[0])\n",
    "my_output_img.save(\"./my_transoformed_img_1.png\")\n",
    "print(\"Stil Aktarma İşlemi bitti\")\n"
   ]
  },
  {
   "cell_type": "code",
   "execution_count": null,
   "id": "adc1b671-168c-4cda-ac27-2c215308004a",
   "metadata": {},
   "outputs": [],
   "source": []
  }
 ],
 "metadata": {
  "kernelspec": {
   "display_name": "env_ybs",
   "language": "python",
   "name": "env_ybs"
  },
  "language_info": {
   "codemirror_mode": {
    "name": "ipython",
    "version": 3
   },
   "file_extension": ".py",
   "mimetype": "text/x-python",
   "name": "python",
   "nbconvert_exporter": "python",
   "pygments_lexer": "ipython3",
   "version": "3.10.10"
  }
 },
 "nbformat": 4,
 "nbformat_minor": 5
}
